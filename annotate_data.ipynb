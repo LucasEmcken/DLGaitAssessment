{
 "cells": [
  {
   "cell_type": "code",
   "execution_count": 5,
   "metadata": {},
   "outputs": [],
   "source": [
    "import pandas as pd\n",
    "import numpy as np\n",
    "import matplotlib.pyplot as plt\n",
    "from helpers.smpl_to_df import smpl_to_df"
   ]
  },
  {
   "cell_type": "code",
   "execution_count": 6,
   "metadata": {},
   "outputs": [
    {
     "name": "stdout",
     "output_type": "stream",
     "text": [
      "(84, 69)\n"
     ]
    }
   ],
   "source": [
    "frames_to_drop = (10, 10)\n",
    "df = smpl_to_df('data/demo_walk_8.pkl', frames_to_drop)"
   ]
  },
  {
   "cell_type": "code",
   "execution_count": 7,
   "metadata": {},
   "outputs": [],
   "source": [
    "#make an array of zeros the length of the data\n",
    "def annotate_data(df, right_int, left_int, frames_to_drop):\n",
    "    right_touch = []\n",
    "    left_touch = []\n",
    "\n",
    "    #set the values of the array to 1 in the interval defined by right_int and left_int\n",
    "    # for i in range(len(df)):\n",
    "    \n",
    "    right_int = np.array(right_int) - frames_to_drop[0]\n",
    "    left_int = np.array(left_int) - frames_to_drop[0]\n",
    "    \n",
    "    support = True\n",
    "    for intervals in range(len(right_int)-1):\n",
    "        apps = right_int[intervals+1] - right_int[intervals]\n",
    "        for i in range(apps):\n",
    "            right_touch.append(int(support))\n",
    "        \n",
    "        # print(right_int[intervals], right_int[intervals+1], support)\n",
    "        support = not support\n",
    "        # print(support)\n",
    "    \n",
    "    # print(right_touch)\n",
    "    support = True\n",
    "    for intervals in range(len(left_int)-1):\n",
    "        apps = left_int[intervals+1] - left_int[intervals]\n",
    "        for i in range(apps):\n",
    "            left_touch.append(int(support))\n",
    "            \n",
    "        support = not support\n",
    "    \n",
    "    #fill the array with zeros for the rest of the data such that the array is the same length as the df\n",
    "    right_touch = np.array(right_touch)\n",
    "    left_touch = np.array(left_touch)\n",
    "    \n",
    "    right_touch = np.append(right_touch, np.zeros(len(df)-len(right_touch)))\n",
    "    left_touch = np.append(left_touch, np.zeros(len(df)-len(left_touch)))\n",
    "\n",
    "    \n",
    "\n",
    "    return right_touch, left_touch"
   ]
  },
  {
   "cell_type": "code",
   "execution_count": 8,
   "metadata": {},
   "outputs": [],
   "source": [
    "right_int = [0, 11, 23, 42, 53, 69]\n",
    "left_int = [0, 18, 29, 26, 37, 56]\n",
    "right_touch, left_touch = annotate_data(df, right_int, left_int, frames_to_drop)"
   ]
  },
  {
   "cell_type": "code",
   "execution_count": 9,
   "metadata": {},
   "outputs": [
    {
     "name": "stdout",
     "output_type": "stream",
     "text": [
      "84\n",
      "84\n"
     ]
    }
   ],
   "source": [
    "print(len(right_touch))\n",
    "print(len(left_touch))"
   ]
  },
  {
   "cell_type": "code",
   "execution_count": 10,
   "metadata": {},
   "outputs": [
    {
     "data": {
      "text/plain": [
       "array([1., 1., 1., 1., 1., 1., 1., 1., 1., 1., 1., 0., 0., 0., 0., 0., 0.,\n",
       "       0., 0., 0., 0., 0., 0., 1., 1., 1., 1., 1., 1., 1., 1., 1., 1., 1.,\n",
       "       1., 1., 1., 1., 1., 1., 1., 1., 0., 0., 0., 0., 0., 0., 0., 0., 0.,\n",
       "       0., 0., 1., 1., 1., 1., 1., 1., 1., 1., 1., 1., 1., 1., 1., 1., 1.,\n",
       "       1., 0., 0., 0., 0., 0., 0., 0., 0., 0., 0., 0., 0., 0., 0., 0.])"
      ]
     },
     "execution_count": 10,
     "metadata": {},
     "output_type": "execute_result"
    }
   ],
   "source": [
    "right_touch"
   ]
  },
  {
   "cell_type": "code",
   "execution_count": 11,
   "metadata": {},
   "outputs": [],
   "source": [
    "#add the array to the df as a column\n",
    "df['right_touch'] = right_touch\n",
    "df['left_touch'] = left_touch"
   ]
  },
  {
   "cell_type": "code",
   "execution_count": 12,
   "metadata": {},
   "outputs": [],
   "source": [
    "#save the df as a csv\n",
    "df.to_csv('train/demo_walk_8_train.csv')"
   ]
  }
 ],
 "metadata": {
  "kernelspec": {
   "display_name": "Python 3",
   "language": "python",
   "name": "python3"
  },
  "language_info": {
   "codemirror_mode": {
    "name": "ipython",
    "version": 3
   },
   "file_extension": ".py",
   "mimetype": "text/x-python",
   "name": "python",
   "nbconvert_exporter": "python",
   "pygments_lexer": "ipython3",
   "version": "3.8.6"
  }
 },
 "nbformat": 4,
 "nbformat_minor": 2
}
