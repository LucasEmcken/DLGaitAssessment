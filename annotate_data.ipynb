{
 "cells": [
  {
   "cell_type": "code",
   "execution_count": 45,
   "metadata": {},
   "outputs": [],
   "source": [
    "import pandas as pd\n",
    "import numpy as np\n",
    "import matplotlib.pyplot as plt\n",
    "from helpers.smpl_to_df import smpl_to_df"
   ]
  },
  {
   "cell_type": "code",
   "execution_count": 46,
   "metadata": {},
   "outputs": [
    {
     "name": "stdout",
     "output_type": "stream",
     "text": [
      "(105, 69)\n"
     ]
    }
   ],
   "source": [
    "frames_to_drop = (0, 0)\n",
    "load = 'data/demo_walk_21.pkl'\n",
    "df = smpl_to_df(load, frames_to_drop)"
   ]
  },
  {
   "cell_type": "code",
   "execution_count": 47,
   "metadata": {},
   "outputs": [],
   "source": [
    "#make an array of zeros the length of the data\n",
    "def annotate_data(df, right_int, left_int, frames_to_drop):\n",
    "    right_touch = []\n",
    "    left_touch = []\n",
    "\n",
    "    #set the values of the array to 1 in the interval defined by right_int and left_int\n",
    "    # for i in range(len(df)):\n",
    "    \n",
    "    right_int = np.array(right_int) - frames_to_drop[0]\n",
    "    left_int = np.array(left_int) - frames_to_drop[0]\n",
    "    \n",
    "    right_int = np.append(right_int, len(df))\n",
    "    left_int = np.append(left_int, len(df))\n",
    "    \n",
    "    support = True\n",
    "    for intervals in range(len(right_int)-1):\n",
    "        apps = right_int[intervals+1] - right_int[intervals]\n",
    "        for i in range(apps):\n",
    "            right_touch.append(int(support))\n",
    "        \n",
    "        # print(right_int[intervals], right_int[intervals+1], support)\n",
    "        support = not support\n",
    "        # print(support)\n",
    "    \n",
    "    # print(right_touch)\n",
    "    support = True\n",
    "    for intervals in range(len(left_int)-1):\n",
    "        apps = left_int[intervals+1] - left_int[intervals]\n",
    "        for i in range(apps):\n",
    "            left_touch.append(int(support))\n",
    "            \n",
    "        support = not support\n",
    "    \n",
    "    #fill the array with zeros for the rest of the data such that the array is the same length as the df\n",
    "    right_touch = np.array(right_touch)\n",
    "    left_touch = np.array(left_touch)\n",
    "    \n",
    "    right_touch = np.append(right_touch, np.zeros(len(df)-len(right_touch)))\n",
    "    left_touch = np.append(left_touch, np.zeros(len(df)-len(left_touch)))\n",
    "\n",
    "    \n",
    "\n",
    "    return right_touch, left_touch"
   ]
  },
  {
   "cell_type": "code",
   "execution_count": 48,
   "metadata": {},
   "outputs": [
    {
     "name": "stdout",
     "output_type": "stream",
     "text": [
      "1.0\n",
      "1.0\n"
     ]
    }
   ],
   "source": [
    "right_int = [0, 18, 32, 53, 65, 90, 102]\n",
    "left_int = [0, 1, 13, 36, 48, 71, 84]\n",
    "right_touch, left_touch = annotate_data(df, right_int, left_int, frames_to_drop)\n",
    "\n",
    "print(right_touch[-1])\n",
    "print(left_touch[-1])"
   ]
  },
  {
   "cell_type": "code",
   "execution_count": 49,
   "metadata": {},
   "outputs": [
    {
     "data": {
      "image/png": "[encoded data removed]",
      "text/plain": [
       "<Figure size 432x288 with 1 Axes>"
      ]
     },
     "metadata": {
      "needs_background": "light"
     },
     "output_type": "display_data"
    }
   ],
   "source": [
    "plt.plot(right_touch, label='right')\n",
    "plt.plot(left_touch+1.5, label='left')\n",
    "plt.legend()\n",
    "plt.show()"
   ]
  },
  {
   "cell_type": "code",
   "execution_count": 50,
   "metadata": {},
   "outputs": [],
   "source": [
    "#add the array to the df as a column\n",
    "df['right_touch'] = right_touch\n",
    "df['left_touch'] = left_touch"
   ]
  },
  {
   "cell_type": "code",
   "execution_count": 51,
   "metadata": {},
   "outputs": [],
   "source": [
    "#save the df as a csv\n",
    "path = load.split('/')[1][:-4]\n",
    "df.to_csv(f'wip/{path}_train.csv')"
   ]
  }
 ],
 "metadata": {
  "kernelspec": {
   "display_name": "Python 3",
   "language": "python",
   "name": "python3"
  },
  "language_info": {
   "codemirror_mode": {
    "name": "ipython",
    "version": 3
   },
   "file_extension": ".py",
   "mimetype": "text/x-python",
   "name": "python",
   "nbconvert_exporter": "python",
   "pygments_lexer": "ipython3",
   "version": "3.8.6"
  }
 },
 "nbformat": 4,
 "nbformat_minor": 2
}
