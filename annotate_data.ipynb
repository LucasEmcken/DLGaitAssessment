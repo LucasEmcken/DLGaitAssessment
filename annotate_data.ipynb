{
 "cells": [
  {
   "cell_type": "code",
   "execution_count": 2,
   "metadata": {},
   "outputs": [],
   "source": [
    "import pandas as pd\n",
    "import numpy as np\n",
    "import matplotlib.pyplot as plt\n",
    "from helpers.smpl_to_df import smpl_to_df"
   ]
  },
  {
   "cell_type": "code",
   "execution_count": 90,
   "metadata": {},
   "outputs": [
    {
     "ename": "IndexError",
     "evalue": "list index out of range",
     "output_type": "error",
     "traceback": [
      "\u001b[1;31m---------------------------------------------------------------------------\u001b[0m",
      "\u001b[1;31mIndexError\u001b[0m                                Traceback (most recent call last)",
      "\u001b[1;32md:\\CodingProjects\\DLGaitAssessment\\annotate_data.ipynb Cell 2\u001b[0m line \u001b[0;36m1\n\u001b[1;32m----> <a href='vscode-notebook-cell:/d%3A/CodingProjects/DLGaitAssessment/annotate_data.ipynb#W1sZmlsZQ%3D%3D?line=0'>1</a>\u001b[0m df \u001b[39m=\u001b[39m smpl_to_df(\u001b[39m'\u001b[39;49m\u001b[39mdata/demo_walk_8.pkl\u001b[39;49m\u001b[39m'\u001b[39;49m)\n",
      "File \u001b[1;32md:\\CodingProjects\\DLGaitAssessment\\helpers\\smpl_to_df.py:20\u001b[0m, in \u001b[0;36msmpl_to_df\u001b[1;34m(path)\u001b[0m\n\u001b[0;32m     16\u001b[0m \u001b[39mdef\u001b[39;00m \u001b[39msmpl_to_df\u001b[39m(path):\n\u001b[0;32m     17\u001b[0m     \u001b[39m#load pkl file\u001b[39;00m\n\u001b[0;32m     18\u001b[0m     results \u001b[39m=\u001b[39m joblib\u001b[39m.\u001b[39mload(path)\n\u001b[1;32m---> 20\u001b[0m     smpl_frames \u001b[39m=\u001b[39m np\u001b[39m.\u001b[39marray([get_smpl(results)[i][\u001b[39m'\u001b[39m\u001b[39mbody_pose\u001b[39m\u001b[39m'\u001b[39m] \u001b[39mfor\u001b[39;00m i \u001b[39min\u001b[39;00m \u001b[39mrange\u001b[39m(\u001b[39mlen\u001b[39m(get_smpl(results)))])\n\u001b[0;32m     22\u001b[0m     smpl_joint_frames \u001b[39m=\u001b[39m []\n\u001b[0;32m     24\u001b[0m     \u001b[39mfor\u001b[39;00m frame \u001b[39min\u001b[39;00m smpl_frames:\n",
      "File \u001b[1;32md:\\CodingProjects\\DLGaitAssessment\\helpers\\smpl_to_df.py:11\u001b[0m, in \u001b[0;36mget_smpl\u001b[1;34m(dict)\u001b[0m\n\u001b[0;32m      9\u001b[0m joints_2d \u001b[39m=\u001b[39m []\n\u001b[0;32m     10\u001b[0m \u001b[39mfor\u001b[39;00m frame \u001b[39min\u001b[39;00m frames:\n\u001b[1;32m---> 11\u001b[0m     joints_2d\u001b[39m.\u001b[39mappend(\u001b[39mdict\u001b[39;49m\u001b[39m.\u001b[39;49mget(frame)\u001b[39m.\u001b[39;49mget(\u001b[39m'\u001b[39;49m\u001b[39msmpl\u001b[39;49m\u001b[39m'\u001b[39;49m)[\u001b[39m0\u001b[39;49m])\n\u001b[0;32m     13\u001b[0m \u001b[39mreturn\u001b[39;00m np\u001b[39m.\u001b[39marray(joints_2d)\n",
      "\u001b[1;31mIndexError\u001b[0m: list index out of range"
     ]
    }
   ],
   "source": [
    "df = smpl_to_df('data/demo_walk_8.pkl')"
   ]
  },
  {
   "cell_type": "code",
   "execution_count": 82,
   "metadata": {},
   "outputs": [],
   "source": [
    "#make an array of zeros the length of the data\n",
    "def annotate_data(df, right_int, left_int):\n",
    "    right_touch = []\n",
    "    left_touch = []\n",
    "\n",
    "    #set the values of the array to 1 in the interval defined by right_int and left_int\n",
    "    # for i in range(len(df)):\n",
    "        \n",
    "    support = True\n",
    "    for intervals in range(len(right_int)-1):\n",
    "        apps = right_int[intervals+1] - right_int[intervals]\n",
    "        for i in range(apps):\n",
    "            right_touch.append(int(support))\n",
    "        \n",
    "        # print(right_int[intervals], right_int[intervals+1], support)\n",
    "        support = not support\n",
    "        # print(support)\n",
    "    \n",
    "    # print(right_touch)\n",
    "    support = True\n",
    "    for intervals in range(len(left_int)-1):\n",
    "        apps = left_int[intervals+1] - left_int[intervals]\n",
    "        for i in range(apps):\n",
    "            left_touch.append(int(support))\n",
    "            \n",
    "        support = not support\n",
    "    \n",
    "    #fill the array with zeros for the rest of the data such that the array is the same length as the df\n",
    "    right_touch = np.array(right_touch)\n",
    "    left_touch = np.array(left_touch)\n",
    "    \n",
    "    right_touch = np.append(right_touch, np.zeros(len(df)-len(right_touch)))\n",
    "    left_touch = np.append(left_touch, np.zeros(len(df)-len(left_touch)))\n",
    "\n",
    "    \n",
    "\n",
    "    return right_touch, left_touch"
   ]
  },
  {
   "cell_type": "code",
   "execution_count": 83,
   "metadata": {},
   "outputs": [],
   "source": [
    "right_int = [0, 11, 23, 42, 53, 69]\n",
    "left_int = [0, 0, 6, 26, 37, 56]\n",
    "right_touch, left_touch = annotate_data(df, right_int, left_int)"
   ]
  },
  {
   "cell_type": "code",
   "execution_count": 84,
   "metadata": {},
   "outputs": [
    {
     "name": "stdout",
     "output_type": "stream",
     "text": [
      "69\n",
      "69\n"
     ]
    }
   ],
   "source": [
    "print(len(right_touch))\n",
    "print(len(left_touch))"
   ]
  },
  {
   "cell_type": "code",
   "execution_count": 87,
   "metadata": {},
   "outputs": [],
   "source": [
    "#add the array to the df as a column\n",
    "df['right_touch'] = right_touch\n",
    "df['left_touch'] = left_touch"
   ]
  },
  {
   "cell_type": "code",
   "execution_count": 89,
   "metadata": {},
   "outputs": [],
   "source": [
    "#save the df as a csv\n",
    "df.to_csv('train/demo_walk_8_train.csv')"
   ]
  }
 ],
 "metadata": {
  "kernelspec": {
   "display_name": "Python 3",
   "language": "python",
   "name": "python3"
  },
  "language_info": {
   "codemirror_mode": {
    "name": "ipython",
    "version": 3
   },
   "file_extension": ".py",
   "mimetype": "text/x-python",
   "name": "python",
   "nbconvert_exporter": "python",
   "pygments_lexer": "ipython3",
   "version": "3.10.10"
  }
 },
 "nbformat": 4,
 "nbformat_minor": 2
}
