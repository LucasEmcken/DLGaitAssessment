{
 "cells": [
  {
   "cell_type": "code",
   "execution_count": 13,
   "metadata": {},
   "outputs": [],
   "source": [
    "import numpy as np\n",
    "import pandas as pd\n",
    "import matplotlib.pyplot as plt\n",
    "import joblib\n",
    "\n",
    "from scipy.spatial import transform\n"
   ]
  },
  {
   "cell_type": "code",
   "execution_count": 14,
   "metadata": {},
   "outputs": [],
   "source": [
    "track_dict = joblib.load('data/demo_walk_9.pkl')"
   ]
  },
  {
   "cell_type": "code",
   "execution_count": 15,
   "metadata": {},
   "outputs": [
    {
     "data": {
      "text/plain": [
       "{'time': 0,\n",
       " 'shot': 0,\n",
       " 'frame_path': 'outputs//_DEMO/walk_9/img/000001.jpg',\n",
       " 'tracked_ids': [1],\n",
       " 'tracked_bbox': [array([740.62366,  89.96479,  98.80328, 366.8655 ], dtype=float32)],\n",
       " 'tid': [1],\n",
       " 'bbox': [array([740.62366,  89.96479,  98.80328, 366.8655 ], dtype=float32)],\n",
       " 'tracked_time': [0],\n",
       " 'appe': [array([13.011716 ,  5.9197555,  6.8680964, ..., 14.114229 , 11.342671 ,\n",
       "          7.932956 ], dtype=float32)],\n",
       " 'loca': [array([ 0.8754562 ,  0.3687355 ,  0.91591734,  0.38633132,  0.89487296,\n",
       "          0.41478622,  0.8971095 ,  0.47863263,  0.88621604,  0.54002464,\n",
       "          0.94477296,  0.41125655,  0.9656168 ,  0.47420624,  0.9616965 ,\n",
       "          0.5363104 ,  0.9174725 ,  0.5133834 ,  0.9102914 ,  0.5364126 ,\n",
       "          0.92546   ,  0.6322799 ,  0.94877243,  0.7309056 ,  0.9251251 ,\n",
       "          0.53585565,  0.88810444,  0.62030894,  0.926617  ,  0.71242815,\n",
       "          0.87691945,  0.35693085,  0.8833824 ,  0.35655364,  0.89472306,\n",
       "          0.35415196,  0.9088534 ,  0.3534209 ,  0.8893111 ,  0.74227965,\n",
       "          0.9074178 ,  0.740503  ,  0.943034  ,  0.7158573 ,  0.9070844 ,\n",
       "          0.74735886,  0.9090977 ,  0.74753696,  0.9616768 ,  0.74036324,\n",
       "          0.94996214,  0.71695006,  0.92320716,  0.6142663 ,  0.90253264,\n",
       "          0.50615907,  0.93898386,  0.50863105,  0.89127994,  0.6107707 ,\n",
       "          0.9306757 ,  0.7022643 ,  0.8840138 ,  0.5328553 ,  0.8885956 ,\n",
       "          0.47466466,  0.89924383,  0.40529466,  0.9409777 ,  0.40277046,\n",
       "          0.9633802 ,  0.46935904,  0.95944273,  0.5323861 ,  0.9160498 ,\n",
       "          0.3897177 ,  0.89520514,  0.34212875,  0.92101705,  0.5073617 ,\n",
       "          0.9192674 ,  0.40427673,  0.9250194 ,  0.44680125,  0.89461887,\n",
       "          0.3704241 ,  0.8955207 ,  0.33695832,  0.91809475,  0.5689145 ,\n",
       "          1.6602364 ,  0.2736564 , 77.557755  ,  1.6602364 ,  0.2736564 ,\n",
       "         77.557755  ,  1.6602364 ,  0.2736564 , 77.557755  ], dtype=float32)],\n",
       " 'pose': [array([ 4.03315008e-01,  5.99232465e-02, -9.13097024e-01, -2.63610445e-02,\n",
       "         -9.96678531e-01, -7.70520717e-02, -9.14681435e-01,  5.51464483e-02,\n",
       "         -4.00395781e-01,  9.94674861e-01,  2.81221233e-02, -9.91517976e-02,\n",
       "          1.38628306e-02,  9.16802764e-01,  3.99099648e-01,  1.02126166e-01,\n",
       "         -3.98348927e-01,  9.11530793e-01,  9.97355640e-01, -5.42659983e-02,\n",
       "         -4.83405590e-02,  4.15039249e-02,  9.71328974e-01, -2.34088629e-01,\n",
       "          5.96576408e-02,  2.31463313e-01,  9.71012712e-01,  9.93999898e-01,\n",
       "          4.26246487e-02,  1.00733280e-01, -2.53086314e-02,  9.85580206e-01,\n",
       "         -1.67305470e-01, -1.06412061e-01,  1.63752213e-01,  9.80745375e-01,\n",
       "          9.94574845e-01,  7.11752325e-02, -7.58616403e-02, -1.04018085e-01,\n",
       "          6.87963665e-01, -7.18252182e-01,  1.06828264e-03,  7.22246528e-01,\n",
       "          6.91634893e-01,  9.59832728e-01,  4.41726334e-02,  2.77074069e-01,\n",
       "         -5.22849411e-02,  9.98390853e-01,  2.19554212e-02, -2.75658369e-01,\n",
       "         -3.55603397e-02,  9.60597754e-01,  9.99920189e-01, -9.00839735e-03,\n",
       "          8.85488745e-03,  9.33642406e-03,  9.99244452e-01, -3.77286002e-02,\n",
       "         -8.50832183e-03,  3.78082655e-02,  9.99248803e-01,  9.76690412e-01,\n",
       "          8.65025520e-02,  1.96450904e-01, -8.17801356e-02,  9.96135235e-01,\n",
       "         -3.20401080e-02, -1.98463216e-01,  1.52274808e-02,  9.79989946e-01,\n",
       "          9.75444734e-01,  5.39881475e-02, -2.13524550e-01, -4.37943414e-02,\n",
       "          9.97676492e-01,  5.21893091e-02,  2.15846002e-01, -4.15566191e-02,\n",
       "          9.75542665e-01,  9.99348402e-01, -1.85197406e-02,  3.09791341e-02,\n",
       "          1.96993239e-02,  9.99075294e-01, -3.82153727e-02, -3.02427523e-02,\n",
       "          3.88007425e-02,  9.98789132e-01,  9.89604115e-01, -1.27833411e-01,\n",
       "         -6.58961013e-02,  1.33815661e-01,  9.86326158e-01,  9.61982980e-02,\n",
       "          5.26976883e-02, -1.04016162e-01,  9.93178546e-01,  9.98504281e-01,\n",
       "          5.16866855e-02, -1.78205110e-02, -4.97737303e-02,  9.94247556e-01,\n",
       "          9.48383212e-02,  2.26198770e-02, -9.38094854e-02,  9.95333076e-01,\n",
       "          9.96547937e-01, -3.75991524e-03, -8.29338729e-02,  2.15088227e-03,\n",
       "          9.99807894e-01, -1.94821935e-02,  8.29911903e-02,  1.92365590e-02,\n",
       "          9.96364594e-01,  8.84522557e-01,  4.65873033e-01,  2.41261385e-02,\n",
       "         -4.65392113e-01,  8.84804070e-01, -2.30657775e-02, -3.20926271e-02,\n",
       "          9.17408708e-03,  9.99442816e-01,  8.87157202e-01, -4.51492816e-01,\n",
       "          9.54272449e-02,  4.54017758e-01,  8.90976250e-01, -5.40528679e-03,\n",
       "         -8.25829580e-02,  4.81210090e-02,  9.95421767e-01,  9.98057961e-01,\n",
       "         -1.96114704e-02, -5.91248833e-02,  5.07388357e-03,  9.71588552e-01,\n",
       "         -2.36622125e-01,  6.20855615e-02,  2.35862583e-01,  9.69801188e-01,\n",
       "          5.70102453e-01,  8.03698838e-01, -1.70444608e-01, -8.21564198e-01,\n",
       "          5.56697071e-01, -1.22966096e-01, -3.94168915e-03,  2.10134447e-01,\n",
       "          9.77664530e-01,  5.80713689e-01, -7.45476007e-01,  3.27165216e-01,\n",
       "          8.00905108e-01,  5.95215261e-01, -6.53426647e-02, -1.46022364e-01,\n",
       "          2.99973696e-01,  9.42705214e-01,  9.39606428e-01, -5.10057583e-02,\n",
       "         -3.38434935e-01,  1.30708097e-02,  9.93459344e-01, -1.13436073e-01,\n",
       "          3.42007220e-01,  1.02161646e-01,  9.34127450e-01,  9.15319145e-01,\n",
       "         -3.42604630e-02,  4.01269466e-01,  1.31301969e-01,  9.67319250e-01,\n",
       "         -2.16917604e-01, -3.80723983e-01,  2.51236290e-01,  8.89904320e-01,\n",
       "          9.98446882e-01,  5.35809249e-02,  1.52624138e-02, -5.36977760e-02,\n",
       "          9.98530209e-01,  7.35200243e-03, -1.48460530e-02, -8.16014130e-03,\n",
       "          9.99856532e-01,  9.98841286e-01, -3.33364978e-02,  3.47079001e-02,\n",
       "          3.48912477e-02,  9.98368561e-01, -4.51970361e-02, -3.31445672e-02,\n",
       "          4.63556722e-02,  9.98374879e-01,  9.63761747e-01,  2.35665083e-01,\n",
       "         -1.25001311e-01, -2.16212615e-01,  9.64531481e-01,  1.51430190e-01,\n",
       "          1.56254515e-01, -1.18915759e-01,  9.80532289e-01,  9.68733966e-01,\n",
       "         -2.24046379e-01,  1.06572233e-01,  1.98264226e-01,  9.57311928e-01,\n",
       "          2.10345507e-01, -1.49150014e-01, -1.82639390e-01,  9.71800983e-01,\n",
       "          2.04297453e-02,  2.55847275e-01, -2.34706402e-01, -5.31505346e-02,\n",
       "         -3.94020677e-02, -3.05985473e-02,  9.10878181e-04,  7.42247105e-02,\n",
       "          6.33742362e-02, -6.74435496e-03,  1.66023636e+00,  2.73656398e-01,\n",
       "          3.87788773e-01], dtype=float32)],\n",
       " 'center': [array([790.02526855, 273.39755249])],\n",
       " 'scale': [0.430593320461506],\n",
       " 'size': [[480, 852]],\n",
       " 'img_path': ['outputs//_DEMO/walk_9/img/000001.jpg'],\n",
       " 'img_name': ['000001.jpg'],\n",
       " 'class_name': [0],\n",
       " 'conf': [0.9981327],\n",
       " 'annotations': [[]],\n",
       " 'smpl': [{'global_orient': array([[[ 0.403315  ,  0.05992325, -0.913097  ],\n",
       "           [-0.02636104, -0.99667853, -0.07705207],\n",
       "           [-0.91468143,  0.05514645, -0.40039578]]], dtype=float32),\n",
       "   'body_pose': array([[[ 0.99467486,  0.02812212, -0.0991518 ],\n",
       "           [ 0.01386283,  0.91680276,  0.39909965],\n",
       "           [ 0.10212617, -0.39834893,  0.9115308 ]],\n",
       "   \n",
       "          [[ 0.99735564, -0.054266  , -0.04834056],\n",
       "           [ 0.04150392,  0.971329  , -0.23408863],\n",
       "           [ 0.05965764,  0.23146331,  0.9710127 ]],\n",
       "   \n",
       "          [[ 0.9939999 ,  0.04262465,  0.10073328],\n",
       "           [-0.02530863,  0.9855802 , -0.16730547],\n",
       "           [-0.10641206,  0.16375221,  0.9807454 ]],\n",
       "   \n",
       "          [[ 0.99457484,  0.07117523, -0.07586164],\n",
       "           [-0.10401808,  0.68796366, -0.7182522 ],\n",
       "           [ 0.00106828,  0.7222465 ,  0.6916349 ]],\n",
       "   \n",
       "          [[ 0.9598327 ,  0.04417263,  0.27707407],\n",
       "           [-0.05228494,  0.99839085,  0.02195542],\n",
       "           [-0.27565837, -0.03556034,  0.96059775]],\n",
       "   \n",
       "          [[ 0.9999202 , -0.0090084 ,  0.00885489],\n",
       "           [ 0.00933642,  0.99924445, -0.0377286 ],\n",
       "           [-0.00850832,  0.03780827,  0.9992488 ]],\n",
       "   \n",
       "          [[ 0.9766904 ,  0.08650255,  0.1964509 ],\n",
       "           [-0.08178014,  0.99613523, -0.03204011],\n",
       "           [-0.19846322,  0.01522748,  0.97998995]],\n",
       "   \n",
       "          [[ 0.97544473,  0.05398815, -0.21352455],\n",
       "           [-0.04379434,  0.9976765 ,  0.05218931],\n",
       "           [ 0.215846  , -0.04155662,  0.97554266]],\n",
       "   \n",
       "          [[ 0.9993484 , -0.01851974,  0.03097913],\n",
       "           [ 0.01969932,  0.9990753 , -0.03821537],\n",
       "           [-0.03024275,  0.03880074,  0.99878913]],\n",
       "   \n",
       "          [[ 0.9896041 , -0.12783341, -0.0658961 ],\n",
       "           [ 0.13381566,  0.98632616,  0.0961983 ],\n",
       "           [ 0.05269769, -0.10401616,  0.99317855]],\n",
       "   \n",
       "          [[ 0.9985043 ,  0.05168669, -0.01782051],\n",
       "           [-0.04977373,  0.99424756,  0.09483832],\n",
       "           [ 0.02261988, -0.09380949,  0.9953331 ]],\n",
       "   \n",
       "          [[ 0.99654794, -0.00375992, -0.08293387],\n",
       "           [ 0.00215088,  0.9998079 , -0.01948219],\n",
       "           [ 0.08299119,  0.01923656,  0.9963646 ]],\n",
       "   \n",
       "          [[ 0.88452256,  0.46587303,  0.02412614],\n",
       "           [-0.4653921 ,  0.88480407, -0.02306578],\n",
       "           [-0.03209263,  0.00917409,  0.9994428 ]],\n",
       "   \n",
       "          [[ 0.8871572 , -0.45149282,  0.09542724],\n",
       "           [ 0.45401776,  0.89097625, -0.00540529],\n",
       "           [-0.08258296,  0.04812101,  0.99542177]],\n",
       "   \n",
       "          [[ 0.99805796, -0.01961147, -0.05912488],\n",
       "           [ 0.00507388,  0.97158855, -0.23662212],\n",
       "           [ 0.06208556,  0.23586258,  0.9698012 ]],\n",
       "   \n",
       "          [[ 0.57010245,  0.80369884, -0.17044461],\n",
       "           [-0.8215642 ,  0.5566971 , -0.1229661 ],\n",
       "           [-0.00394169,  0.21013445,  0.97766453]],\n",
       "   \n",
       "          [[ 0.5807137 , -0.745476  ,  0.32716522],\n",
       "           [ 0.8009051 ,  0.59521526, -0.06534266],\n",
       "           [-0.14602236,  0.2999737 ,  0.9427052 ]],\n",
       "   \n",
       "          [[ 0.9396064 , -0.05100576, -0.33843493],\n",
       "           [ 0.01307081,  0.99345934, -0.11343607],\n",
       "           [ 0.34200722,  0.10216165,  0.93412745]],\n",
       "   \n",
       "          [[ 0.91531914, -0.03426046,  0.40126947],\n",
       "           [ 0.13130197,  0.96731925, -0.2169176 ],\n",
       "           [-0.38072398,  0.2512363 ,  0.8899043 ]],\n",
       "   \n",
       "          [[ 0.9984469 ,  0.05358092,  0.01526241],\n",
       "           [-0.05369778,  0.9985302 ,  0.007352  ],\n",
       "           [-0.01484605, -0.00816014,  0.99985653]],\n",
       "   \n",
       "          [[ 0.9988413 , -0.0333365 ,  0.0347079 ],\n",
       "           [ 0.03489125,  0.99836856, -0.04519704],\n",
       "           [-0.03314457,  0.04635567,  0.9983749 ]],\n",
       "   \n",
       "          [[ 0.96376175,  0.23566508, -0.12500131],\n",
       "           [-0.21621262,  0.9645315 ,  0.15143019],\n",
       "           [ 0.15625452, -0.11891576,  0.9805323 ]],\n",
       "   \n",
       "          [[ 0.96873397, -0.22404638,  0.10657223],\n",
       "           [ 0.19826423,  0.9573119 ,  0.2103455 ],\n",
       "           [-0.14915001, -0.18263939,  0.971801  ]]], dtype=float32),\n",
       "   'betas': array([ 0.02042975,  0.25584728, -0.2347064 , -0.05315053, -0.03940207,\n",
       "          -0.03059855,  0.00091088,  0.07422471,  0.06337424, -0.00674435],\n",
       "         dtype=float32)}],\n",
       " 'camera': [array([ 1.6602364,  0.2736564, 77.557755 ], dtype=float32)],\n",
       " 'camera_bbox': [array([ 1.1696813 , -0.03639358,  0.11799883], dtype=float32)],\n",
       " '3d_joints': [array([[-0.17027035, -0.79456836, -0.04965549],\n",
       "         [-0.00810008, -0.72517914,  0.02565869],\n",
       "         [-0.08853146, -0.61283106,  0.18209398],\n",
       "         [-0.07891157, -0.3587431 ,  0.21739   ],\n",
       "         [-0.12363797, -0.1144145 ,  0.1492351 ],\n",
       "         [ 0.1033368 , -0.6255339 , -0.11421904],\n",
       "         [ 0.18636668, -0.3759526 , -0.09820348],\n",
       "         [ 0.16969702, -0.1297402 , -0.1456723 ],\n",
       "         [-0.00190977, -0.22049353,  0.02626121],\n",
       "         [-0.02922285, -0.12890698,  0.08398048],\n",
       "         [ 0.03185017,  0.25243056,  0.11951064],\n",
       "         [ 0.12501374,  0.64490324,  0.13900883],\n",
       "         [ 0.02709138, -0.13134483, -0.03794271],\n",
       "         [-0.12188339,  0.20321941, -0.14056331],\n",
       "         [ 0.03235744,  0.5691477 , -0.0679389 ],\n",
       "         [-0.16369817, -0.8417047 , -0.00998772],\n",
       "         [-0.13925031, -0.8427485 , -0.07177772],\n",
       "         [-0.09152965, -0.8532851 ,  0.06325418],\n",
       "         [-0.03819897, -0.85517716, -0.07174071],\n",
       "         [-0.11685541,  0.6868346 , -0.12826012],\n",
       "         [-0.0459525 ,  0.6792723 , -0.17041251],\n",
       "         [ 0.09798214,  0.5829921 , -0.04631174],\n",
       "         [-0.0427307 ,  0.70919716,  0.04754574],\n",
       "         [-0.03290883,  0.7110073 ,  0.13454461],\n",
       "         [ 0.17711516,  0.6829258 ,  0.17145792],\n",
       "         [ 0.13047142,  0.58973664,  0.17048469],\n",
       "         [ 0.02279554,  0.18076345,  0.11510894],\n",
       "         [-0.05850619, -0.24914859,  0.15964311],\n",
       "         [ 0.08086137, -0.239424  , -0.0929106 ],\n",
       "         [-0.10938836,  0.16538624, -0.14514352],\n",
       "         [ 0.04836275,  0.5287773 , -0.07235935],\n",
       "         [-0.13283081, -0.1429753 ,  0.12731811],\n",
       "         [-0.11272438, -0.3745498 ,  0.22193463],\n",
       "         [-0.07170487, -0.6504748 ,  0.15416518],\n",
       "         [ 0.0888865 , -0.65931404, -0.08772319],\n",
       "         [ 0.17641737, -0.39510494, -0.14370042],\n",
       "         [ 0.16051483, -0.14531165, -0.1562796 ],\n",
       "         [-0.0076489 , -0.71170765,  0.0221413 ],\n",
       "         [-0.09125704, -0.90041107, -0.01797062],\n",
       "         [ 0.01232643, -0.24441075,  0.03350408],\n",
       "         [ 0.00535232, -0.65392816,  0.03241055],\n",
       "         [ 0.02844138, -0.4850246 ,  0.04338671],\n",
       "         [-0.09373086, -0.7880297 , -0.02518727],\n",
       "         [-0.08988374, -0.92098767, -0.01200869],\n",
       "         [ 0.        ,  0.        ,  0.        ]], dtype=float32)],\n",
       " '2d_joints': [array([0.8754562 , 0.3687355 , 0.91591734, 0.38633132, 0.89487296,\n",
       "         0.41478622, 0.8971095 , 0.47863263, 0.88621604, 0.54002464,\n",
       "         0.94477296, 0.41125655, 0.9656168 , 0.47420624, 0.9616965 ,\n",
       "         0.5363104 , 0.9174725 , 0.5133834 , 0.9102914 , 0.5364126 ,\n",
       "         0.92546   , 0.6322799 , 0.94877243, 0.7309056 , 0.9251251 ,\n",
       "         0.53585565, 0.88810444, 0.62030894, 0.926617  , 0.71242815,\n",
       "         0.87691945, 0.35693085, 0.8833824 , 0.35655364, 0.89472306,\n",
       "         0.35415196, 0.9088534 , 0.3534209 , 0.8893111 , 0.74227965,\n",
       "         0.9074178 , 0.740503  , 0.943034  , 0.7158573 , 0.9070844 ,\n",
       "         0.74735886, 0.9090977 , 0.74753696, 0.9616768 , 0.74036324,\n",
       "         0.94996214, 0.71695006, 0.92320716, 0.6142663 , 0.90253264,\n",
       "         0.50615907, 0.93898386, 0.50863105, 0.89127994, 0.6107707 ,\n",
       "         0.9306757 , 0.7022643 , 0.8840138 , 0.5328553 , 0.8885956 ,\n",
       "         0.47466466, 0.89924383, 0.40529466, 0.9409777 , 0.40277046,\n",
       "         0.9633802 , 0.46935904, 0.95944273, 0.5323861 , 0.9160498 ,\n",
       "         0.3897177 , 0.89520514, 0.34212875, 0.92101705, 0.5073617 ,\n",
       "         0.9192674 , 0.40427673, 0.9250194 , 0.44680125, 0.89461887,\n",
       "         0.3704241 , 0.8955207 , 0.33695832, 0.91809475, 0.5689145 ],\n",
       "        dtype=float32)],\n",
       " 'mask': [[{'size': [480, 852],\n",
       "    'counts': '\\\\Zm:`0`60m06kN2P14XM]OgLg0k52gL5mL3V6N\\\\La0TMI[6JPLQ1[M[Ob6HbKW3`0ZKT1b1SN^3e0SKV1b1lMc3l0nJV1`1bMn3V1cJW1c1UMW4a1XJY1e1lL\\\\4h1oI[1k1cL]4o1jI]1c8aN]G_1e8_N[Ga1f8]N[Gc1h8YNYGg1k8TNVGl1l8QNUGo1m8mMUGS2l8jMVGV2l8fMVGZ2k8dMVG\\\\2m8`MTG`2o8\\\\MRGd2P9YMQGg2Q9VMPGj2Q9TMPGl2R9PMPGP3R9lLPGT3^:0000001O0000001O001O1O1O1O2N2N3M2N4L5K2N1O1O001O1O1O1O1O1O1dKXL^Mi3\\\\2gLYMZ3b2oLYMQ3e2VMVMk2h2\\\\MRMe2m2^MPMb2P3cMkL^2T3hMfLY2Y3jMdLX2Y3nMbLT2\\\\3RN]LR2`3RN\\\\Lo1c3UNXLn1f3YNRLi1l3^NmKe1Q4`NiKc1T4bNdKe1Y4aNXKj1e4\\\\4L3M4L5K5J6I7J6I7I9E;F;Da0\\\\Oc0ZOZ[6'}]],\n",
       " 'extra_data': [0]}"
      ]
     },
     "execution_count": 15,
     "metadata": {},
     "output_type": "execute_result"
    }
   ],
   "source": [
    "#remove first element in track_dict\n",
    "list(track_dict.keys())\n",
    "track_dict.pop(list(track_dict.keys())[0])"
   ]
  },
  {
   "cell_type": "code",
   "execution_count": 16,
   "metadata": {},
   "outputs": [
    {
     "name": "stdout",
     "output_type": "stream",
     "text": [
      "outputs//_DEMO/walk_9/img/000002.jpg\n"
     ]
    }
   ],
   "source": [
    "frames = list(track_dict.keys())\n",
    "print(frames[0])"
   ]
  },
  {
   "cell_type": "code",
   "execution_count": 17,
   "metadata": {},
   "outputs": [],
   "source": [
    "params = list(track_dict.get(frames[0]).keys())"
   ]
  },
  {
   "cell_type": "code",
   "execution_count": 18,
   "metadata": {},
   "outputs": [],
   "source": [
    "joints_2d = track_dict.get(frames[0]).get('smpl')"
   ]
  },
  {
   "cell_type": "code",
   "execution_count": 19,
   "metadata": {},
   "outputs": [
    {
     "data": {
      "text/plain": [
       "[{'global_orient': array([[[ 0.3539928 ,  0.06581085, -0.93292993],\n",
       "          [-0.00675271, -0.99731535, -0.072915  ],\n",
       "          [-0.9352238 ,  0.03211119, -0.35259804]]], dtype=float32),\n",
       "  'body_pose': array([[[ 9.96266127e-01,  3.70126292e-02, -7.79985413e-02],\n",
       "          [-3.01370444e-03,  9.17800725e-01,  3.97029847e-01],\n",
       "          [ 8.62822309e-02, -3.95312369e-01,  9.14485335e-01]],\n",
       "  \n",
       "         [[ 9.93029535e-01, -8.17491189e-02, -8.49085152e-02],\n",
       "          [ 4.95942384e-02,  9.43308890e-01, -3.28190058e-01],\n",
       "          [ 1.06924206e-01,  3.21691424e-01,  9.40787852e-01]],\n",
       "  \n",
       "         [[ 9.91331041e-01,  3.60217355e-02,  1.26353651e-01],\n",
       "          [-1.61696784e-02,  9.87820923e-01, -1.54752403e-01],\n",
       "          [-1.30389243e-01,  1.51367754e-01,  9.79839981e-01]],\n",
       "  \n",
       "         [[ 9.97099280e-01,  7.61116296e-02, -4.82491632e-05],\n",
       "          [-6.92007244e-02,  9.06298637e-01, -4.16933954e-01],\n",
       "          [-3.16898003e-02,  4.15727913e-01,  9.08936679e-01]],\n",
       "  \n",
       "         [[ 9.71072078e-01,  3.08479480e-02,  2.36785963e-01],\n",
       "          [-4.68211286e-02,  9.96969044e-01,  6.21331744e-02],\n",
       "          [-2.34151587e-01, -7.14223683e-02,  9.69573140e-01]],\n",
       "  \n",
       "         [[ 9.99662697e-01, -2.24616174e-02,  1.30352434e-02],\n",
       "          [ 2.28448920e-02,  9.99287605e-01, -3.00391018e-02],\n",
       "          [-1.23512307e-02,  3.03267594e-02,  9.99463677e-01]],\n",
       "  \n",
       "         [[ 9.74598587e-01,  9.67016593e-02,  2.02005878e-01],\n",
       "          [-8.27888548e-02,  9.93646443e-01, -7.62419775e-02],\n",
       "          [-2.08095133e-01,  5.75814806e-02,  9.76412237e-01]],\n",
       "  \n",
       "         [[ 9.77847576e-01,  4.77078632e-02, -2.03809068e-01],\n",
       "          [-3.60687226e-02,  9.97519493e-01,  6.04478791e-02],\n",
       "          [ 2.06187353e-01, -5.17576784e-02,  9.77142751e-01]],\n",
       "  \n",
       "         [[ 9.98691916e-01, -2.04478223e-02,  4.68648896e-02],\n",
       "          [ 2.18544062e-02,  9.99319911e-01, -2.97003686e-02],\n",
       "          [-4.62257080e-02,  3.06857228e-02,  9.98459578e-01]],\n",
       "  \n",
       "         [[ 9.85108674e-01, -1.63627520e-01, -5.27911745e-02],\n",
       "          [ 1.66269124e-01,  9.84799027e-01,  5.02535105e-02],\n",
       "          [ 4.37658429e-02, -5.82827143e-02,  9.97340262e-01]],\n",
       "  \n",
       "         [[ 9.99711871e-01,  2.23118514e-02, -8.85940157e-03],\n",
       "          [-2.16624625e-02,  9.97474134e-01,  6.76464736e-02],\n",
       "          [ 1.03463447e-02, -6.74350560e-02,  9.97670054e-01]],\n",
       "  \n",
       "         [[ 9.96317685e-01,  2.88891010e-02, -8.07246640e-02],\n",
       "          [-3.18794213e-02,  9.98843133e-01, -3.60033922e-02],\n",
       "          [ 7.95911551e-02,  3.84442732e-02,  9.96086061e-01]],\n",
       "  \n",
       "         [[ 9.07185793e-01,  4.18698788e-01,  4.12945300e-02],\n",
       "          [-4.17760640e-01,  9.08074260e-01, -2.96180006e-02],\n",
       "          [-4.98995185e-02,  9.61780176e-03,  9.98707950e-01]],\n",
       "  \n",
       "         [[ 8.97356331e-01, -4.24670607e-01,  1.20027088e-01],\n",
       "          [ 4.28938091e-01,  9.03267026e-01, -1.09923454e-02],\n",
       "          [-1.03748381e-01,  6.13482408e-02,  9.92709756e-01]],\n",
       "  \n",
       "         [[ 9.94333029e-01,  7.38773122e-03, -1.06053211e-01],\n",
       "          [-3.05336099e-02,  9.75397170e-01, -2.18330085e-01],\n",
       "          [ 1.01831041e-01,  2.20330998e-01,  9.70095217e-01]],\n",
       "  \n",
       "         [[ 5.27930677e-01,  8.30315232e-01, -1.78510204e-01],\n",
       "          [-8.49249244e-01,  5.14118016e-01, -1.20243311e-01],\n",
       "          [-8.06453358e-03,  2.15079769e-01,  9.76563275e-01]],\n",
       "  \n",
       "         [[ 5.71258247e-01, -7.54541695e-01,  3.23002785e-01],\n",
       "          [ 8.05409014e-01,  5.91115355e-01, -4.35767807e-02],\n",
       "          [-1.58051401e-01,  2.85042971e-01,  9.45394218e-01]],\n",
       "  \n",
       "         [[ 9.15522218e-01, -7.74383396e-02, -3.94743383e-01],\n",
       "          [ 2.50866208e-02,  9.90377009e-01, -1.36103123e-01],\n",
       "          [ 4.01484370e-01,  1.14702657e-01,  9.08654809e-01]],\n",
       "  \n",
       "         [[ 9.05144215e-01, -2.05070358e-02,  4.24609572e-01],\n",
       "          [ 1.14622928e-01,  9.73614931e-01, -1.97320789e-01],\n",
       "          [-4.09359783e-01,  2.27273792e-01,  8.83612514e-01]],\n",
       "  \n",
       "         [[ 9.99529004e-01,  3.06362342e-02, -1.81160122e-03],\n",
       "          [-3.05547547e-02,  9.98927593e-01,  3.47850733e-02],\n",
       "          [ 2.87534227e-03, -3.47133353e-02,  9.99393165e-01]],\n",
       "  \n",
       "         [[ 9.98622477e-01, -1.62897930e-02,  4.98788022e-02],\n",
       "          [ 1.72716957e-02,  9.99664187e-01, -1.93188749e-02],\n",
       "          [-4.95473482e-02,  2.01537535e-02,  9.98568475e-01]],\n",
       "  \n",
       "         [[ 9.63117838e-01,  2.37066284e-01, -1.27293363e-01],\n",
       "          [-2.16179192e-01,  9.63394403e-01,  1.58549204e-01],\n",
       "          [ 1.60220370e-01, -1.25183389e-01,  9.79111135e-01]],\n",
       "  \n",
       "         [[ 9.70321059e-01, -2.12735698e-01,  1.14980765e-01],\n",
       "          [ 1.87249422e-01,  9.61857438e-01,  1.99419022e-01],\n",
       "          [-1.53018638e-01, -1.71970397e-01,  9.73145187e-01]]],\n",
       "        dtype=float32),\n",
       "  'betas': array([ 0.03552774,  0.2824487 , -0.15246882, -0.10349843, -0.06326896,\n",
       "          0.03426054,  0.02214578,  0.04333574,  0.05921175,  0.00243133],\n",
       "        dtype=float32)}]"
      ]
     },
     "execution_count": 19,
     "metadata": {},
     "output_type": "execute_result"
    }
   ],
   "source": [
    "joints_2d"
   ]
  },
  {
   "cell_type": "code",
   "execution_count": 20,
   "metadata": {},
   "outputs": [],
   "source": [
    "\n",
    "def get_2d_joints(dict):\n",
    "    frames = list(dict.keys())\n",
    "    joints_2d = []\n",
    "    for frame in frames:\n",
    "        joints_2d.append(dict.get(frame).get('2d_joints'))\n",
    "    \n",
    "    #reshape to (frames, 90)\n",
    "    joints_2d = np.array(joints_2d)\n",
    "    joints_2d = joints_2d.reshape(joints_2d.shape[0], -1)\n",
    "    \n",
    "    return np.array(joints_2d)\n",
    "\n",
    "def get_smpl(dict):\n",
    "    frames = list(dict.keys())\n",
    "    joints_2d = []\n",
    "    for frame in frames:\n",
    "        joints_2d.append(dict.get(frame).get('smpl')[0])\n",
    "    \n",
    "    return np.array(joints_2d)\n",
    "\n",
    "def get_cameras(dict):\n",
    "    frames = list(dict.keys())\n",
    "    joints_2d = []\n",
    "    for frame in frames:\n",
    "        joints_2d.append(dict.get(frame).get('camera'))\n",
    "    \n",
    "    return np.array(joints_2d)"
   ]
  },
  {
   "cell_type": "code",
   "execution_count": 21,
   "metadata": {},
   "outputs": [],
   "source": [
    "# smpl_frames = np.array([get_smpl(dict)[i]['body_pose'][7] for i in range(len(get_smpl(dict)))])\n",
    "\n",
    "# joints = [smpl_frames[i] for i in range(len(smpl_frames))]\n",
    "\n",
    "# # smpl = get_smpl(dict)[0]['body_pose']\n",
    "# # smpl[7]\n",
    "# # print(joints)\n",
    "\n",
    "# joints_x = []\n",
    "# joints_y = []\n",
    "# joints_z = []\n",
    "\n",
    "# for i in range(len(joints)):\n",
    "#     r = transform.Rotation.from_matrix(joints[i])\n",
    "#     r = r.as_euler('xyz', degrees=False)\n",
    "    \n",
    "#     joints_x.append(r[0])\n",
    "#     joints_y.append(r[1])\n",
    "#     joints_z.append(r[2])\n",
    "    \n",
    "# plt.plot(joints)\n",
    "# plt.show()"
   ]
  },
  {
   "cell_type": "code",
   "execution_count": 22,
   "metadata": {},
   "outputs": [
    {
     "name": "stdout",
     "output_type": "stream",
     "text": [
      "(68, 3, 23)\n"
     ]
    }
   ],
   "source": [
    "smpl_frames = np.array([get_smpl(track_dict)[i]['body_pose'] for i in range(len(get_smpl(track_dict)))])\n",
    "\n",
    "smpl_joint_frames = []\n",
    "\n",
    "for frame in smpl_frames:\n",
    "    \n",
    "    joints_x = []\n",
    "    joints_y = []\n",
    "    joints_z = []\n",
    "    \n",
    "    for joint in frame:\n",
    "        r = transform.Rotation.from_matrix(joint)\n",
    "        r = r.as_euler('xyz', degrees=False)\n",
    "\n",
    "        joints_x.append(r[0])\n",
    "        joints_y.append(r[1])\n",
    "        joints_z.append(r[2])\n",
    "    \n",
    "    smpl_joint_frames.append([joints_x, joints_y, joints_z])\n",
    "\n",
    "smpl_joint_frames = np.array(smpl_joint_frames)\n",
    "#reshape to (frames, 23, 3)\n",
    "# smpl_joint_frames = smpl_joint_frames.reshape(smpl_joint_frames.shape[0], 23, 3)\n",
    "print(smpl_joint_frames.shape)"
   ]
  },
  {
   "cell_type": "code",
   "execution_count": 23,
   "metadata": {},
   "outputs": [
    {
     "data": {
      "text/plain": [
       "[<matplotlib.lines.Line2D at 0x1be9c744070>]"
      ]
     },
     "execution_count": 23,
     "metadata": {},
     "output_type": "execute_result"
    },
    {
     "data": {
      "image/png": "[encoded data removed]",
      "text/plain": [
       "<Figure size 432x288 with 1 Axes>"
      ]
     },
     "metadata": {
      "needs_background": "light"
     },
     "output_type": "display_data"
    }
   ],
   "source": [
    "plt.plot(smpl_joint_frames[:, 0, 7])\n",
    "plt.plot(smpl_joint_frames[:, 1, 7])\n",
    "plt.plot(smpl_joint_frames[:, 2, 7])\n"
   ]
  },
  {
   "cell_type": "code",
   "execution_count": 24,
   "metadata": {},
   "outputs": [],
   "source": [
    "#swap dimensions of smpl_joint_frames to (frames, 23, 3)\n",
    "smpl_joint_frames = np.swapaxes(smpl_joint_frames, 1, 2)"
   ]
  },
  {
   "cell_type": "code",
   "execution_count": 25,
   "metadata": {},
   "outputs": [
    {
     "data": {
      "text/plain": [
       "[<matplotlib.lines.Line2D at 0x1be9d8bd3a0>]"
      ]
     },
     "execution_count": 25,
     "metadata": {},
     "output_type": "execute_result"
    },
    {
     "data": {
      "image/png": "[encoded data removed]",
      "text/plain": [
       "<Figure size 432x288 with 1 Axes>"
      ]
     },
     "metadata": {
      "needs_background": "light"
     },
     "output_type": "display_data"
    }
   ],
   "source": [
    "plt.plot(smpl_joint_frames[:, 3, 0])\n",
    "plt.plot(smpl_joint_frames[:, 3, 1])\n",
    "plt.plot(smpl_joint_frames[:, 3, 2])"
   ]
  },
  {
   "cell_type": "code",
   "execution_count": 26,
   "metadata": {},
   "outputs": [
    {
     "name": "stdout",
     "output_type": "stream",
     "text": [
      "69\n"
     ]
    }
   ],
   "source": [
    "#convert to joints to dataframe, by resizinng to (frames, 23*3)\n",
    "smpl_joint_frames_df = smpl_joint_frames.reshape(smpl_joint_frames.shape[0], -1)\n",
    "smpl_joint_frames_df = pd.DataFrame(smpl_joint_frames_df)\n",
    "\n",
    "#get column names from SMPL model joint names\n",
    "\n",
    "column_names = []\n",
    "\n",
    "SMPL_JOINT_NAMES = [\n",
    "#    \"pelvis\",\n",
    "    \"left_hip\",\n",
    "    \"right_hip\",\n",
    "    \"spine1\",\n",
    "    \"left_knee\",\n",
    "    \"right_knee\",\n",
    "    \"spine2\",\n",
    "    \"left_ankle\",\n",
    "    \"right_ankle\",\n",
    "    \"spine3\",\n",
    "    \"left_foot\",\n",
    "    \"right_foot\",\n",
    "    \"neck\",\n",
    "    \"left_collar\",\n",
    "    \"right_collar\",\n",
    "    \"head\",\n",
    "    \"left_shoulder\",\n",
    "    \"right_shoulder\",\n",
    "    \"left_elbow\",\n",
    "    \"right_elbow\",\n",
    "    \"left_wrist\",\n",
    "    \"right_wrist\",\n",
    "    \"left_hand\",\n",
    "    \"right_hand\",\n",
    "]\n",
    "\n",
    "\n",
    "for i in SMPL_JOINT_NAMES:\n",
    "    column_names.append(f'{i}_x')\n",
    "    column_names.append(f'{i}_y')\n",
    "    column_names.append(f'{i}_z')\n",
    "\n",
    "smpl_joint_frames_df.columns = column_names\n",
    "\n",
    "print(len(column_names))"
   ]
  },
  {
   "cell_type": "code",
   "execution_count": 27,
   "metadata": {},
   "outputs": [
    {
     "data": {
      "image/png": "[encoded data removed]",
      "text/plain": [
       "<Figure size 432x288 with 1 Axes>"
      ]
     },
     "metadata": {
      "needs_background": "light"
     },
     "output_type": "display_data"
    }
   ],
   "source": [
    "\n",
    "plot_col = 4\n",
    "\n",
    "plt.plot(smpl_joint_frames_df[f'{SMPL_JOINT_NAMES[plot_col]}_x'])\n",
    "plt.plot(smpl_joint_frames_df[f'{SMPL_JOINT_NAMES[plot_col]}_y'])\n",
    "plt.plot(smpl_joint_frames_df[f'{SMPL_JOINT_NAMES[plot_col]}_z'])\n",
    "\n",
    "plt.title(f'{SMPL_JOINT_NAMES[plot_col]}')\n",
    "\n",
    "plt.show()"
   ]
  },
  {
   "cell_type": "code",
   "execution_count": 28,
   "metadata": {},
   "outputs": [],
   "source": [
    "get_cameras(track_dict).shape\n",
    "#reshape to (frames, 3)\n",
    "camera_frames = get_cameras(track_dict).reshape(get_cameras(track_dict).shape[0], -1)"
   ]
  },
  {
   "cell_type": "code",
   "execution_count": 31,
   "metadata": {},
   "outputs": [
    {
     "data": {
      "text/plain": [
       "[<matplotlib.lines.Line2D at 0x1be9f9b28b0>]"
      ]
     },
     "execution_count": 31,
     "metadata": {},
     "output_type": "execute_result"
    },
    {
     "data": {
      "image/png": "[encoded data removed]",
      "text/plain": [
       "<Figure size 432x288 with 1 Axes>"
      ]
     },
     "metadata": {
      "needs_background": "light"
     },
     "output_type": "display_data"
    }
   ],
   "source": [
    "#plot camera frames\n",
    "plt.plot(camera_frames[:, 0])\n",
    "plt.plot(camera_frames[:, 1])\n",
    "plt.plot(camera_frames[:, 2])\n"
   ]
  },
  {
   "cell_type": "code",
   "execution_count": 30,
   "metadata": {},
   "outputs": [
    {
     "data": {
      "text/plain": [
       "dict_keys(['time', 'shot', 'frame_path', 'tracked_ids', 'tracked_bbox', 'tid', 'bbox', 'tracked_time', 'appe', 'loca', 'pose', 'center', 'scale', 'size', 'img_path', 'img_name', 'class_name', 'conf', 'annotations', 'smpl', 'camera', 'camera_bbox', '3d_joints', '2d_joints', 'mask', 'extra_data'])"
      ]
     },
     "execution_count": 30,
     "metadata": {},
     "output_type": "execute_result"
    }
   ],
   "source": [
    "track_dict.get(frames[0]).keys()"
   ]
  }
 ],
 "metadata": {
  "kernelspec": {
   "display_name": "Python 3",
   "language": "python",
   "name": "python3"
  },
  "language_info": {
   "codemirror_mode": {
    "name": "ipython",
    "version": 3
   },
   "file_extension": ".py",
   "mimetype": "text/x-python",
   "name": "python",
   "nbconvert_exporter": "python",
   "pygments_lexer": "ipython3",
   "version": "3.8.6"
  }
 },
 "nbformat": 4,
 "nbformat_minor": 2
}
