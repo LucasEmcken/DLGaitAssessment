{
 "cells": [
  {
   "cell_type": "code",
   "execution_count": 52,
   "metadata": {},
   "outputs": [],
   "source": [
    "import pandas as pd\n",
    "import numpy as np\n",
    "import matplotlib.pyplot as plt\n",
    "from sklearn.model_selection import train_test_split\n",
    "\n",
    "import torch\n",
    "import torch.nn as nn\n",
    "import torch.optim as optim\n",
    "from torch.utils.data import DataLoader, TensorDataset"
   ]
  },
  {
   "cell_type": "code",
   "execution_count": 53,
   "metadata": {},
   "outputs": [],
   "source": [
    "#load data\n",
    "data = pd.read_csv('train/combined.csv', index_col=0)\n",
    "\n",
    "X = data.drop(['right_touch', 'left_touch'], axis=1)\n",
    "y = data[['right_touch', 'left_touch']]\n",
    "\n",
    "X_train = X\n",
    "y_train = y\n",
    "\n",
    "data = pd.read_csv('wip/demo_walk_23_train.csv', index_col=0)\n",
    "\n",
    "X = data.drop(['right_touch', 'left_touch'], axis=1)\n",
    "y = data[['right_touch', 'left_touch']]\n",
    "\n",
    "X_test = X\n",
    "y_test = y\n",
    "\n",
    "# Use train_test_split with stratify parameter\n",
    "# X_train, X_test, y_train, y_test = train_test_split(X, y, test_size=0.2, stratify=y, random_state=42)\n",
    "\n",
    "# Convert pandas DataFrames to PyTorch tensors\n",
    "X_train_tensor = torch.tensor(X_train.values, dtype=torch.float32)\n",
    "y_train_tensor = torch.tensor(y_train.values, dtype=torch.float32)\n",
    "X_test_tensor = torch.tensor(X_test.values, dtype=torch.float32)\n",
    "y_test_tensor = torch.tensor(y_test.values, dtype=torch.float32)"
   ]
  },
  {
   "cell_type": "code",
   "execution_count": 54,
   "metadata": {},
   "outputs": [],
   "source": [
    "class NN(nn.Module):\n",
    "    def __init__(self, input_size, hidden_size, output_size):\n",
    "        super(NN, self).__init__()\n",
    "        self.fc1 = nn.Linear(input_size, hidden_size)\n",
    "        self.relu = nn.ReLU()\n",
    "        self.fc2 = nn.Linear(hidden_size, output_size)\n",
    "        self.sigmoid = nn.Sigmoid()\n",
    "\n",
    "    def forward(self, x):\n",
    "        x = self.fc1(x)\n",
    "        x = self.relu(x)\n",
    "        x = self.fc2(x)\n",
    "        x = self.sigmoid(x)\n",
    "        return x\n",
    "\n",
    "input_size = X_train.shape[1]\n",
    "hidden_size = 64  # You can adjust this based on your problem\n",
    "output_size = 2  # Assuming binary classification for each foot\n",
    "\n",
    "# Instantiate the model\n",
    "model = NN(input_size, hidden_size, output_size)\n",
    "\n",
    "# Define the loss function and optimizer\n",
    "criterion = nn.BCELoss()\n",
    "optimizer = optim.Adam(model.parameters(), lr=0.001)\n"
   ]
  },
  {
   "cell_type": "code",
   "execution_count": 55,
   "metadata": {},
   "outputs": [],
   "source": [
    "# Convert data to DataLoader for batching\n",
    "train_dataset = TensorDataset(X_train_tensor, y_train_tensor)\n",
    "train_loader = DataLoader(train_dataset, batch_size=32, shuffle=True)"
   ]
  },
  {
   "cell_type": "code",
   "execution_count": 56,
   "metadata": {},
   "outputs": [
    {
     "name": "stdout",
     "output_type": "stream",
     "text": [
      "Epoch [10/120], Loss: 0.2571\n",
      "Epoch [20/120], Loss: 0.2417\n",
      "Epoch [30/120], Loss: 0.1890\n",
      "Epoch [40/120], Loss: 0.2086\n",
      "Epoch [50/120], Loss: 0.1606\n",
      "Epoch [60/120], Loss: 0.1109\n",
      "Epoch [70/120], Loss: 0.2841\n",
      "Epoch [80/120], Loss: 0.1497\n",
      "Epoch [90/120], Loss: 0.1281\n",
      "Epoch [100/120], Loss: 0.0847\n",
      "Epoch [110/120], Loss: 0.1682\n",
      "Epoch [120/120], Loss: 0.0793\n",
      "Test Loss: 0.1749\n"
     ]
    }
   ],
   "source": [
    "num_epochs = 120\n",
    "\n",
    "for epoch in range(num_epochs):\n",
    "    for inputs, labels in train_loader:\n",
    "        # Forward pass\n",
    "        outputs = model(inputs)\n",
    "        loss = criterion(outputs, labels)\n",
    "\n",
    "        # Backward pass and optimization\n",
    "        optimizer.zero_grad()\n",
    "        loss.backward()\n",
    "        optimizer.step()\n",
    "\n",
    "    # Print the loss for every epoch\n",
    "    if (epoch+1) % 10 == 0:\n",
    "        print(f'Epoch [{epoch+1}/{num_epochs}], Loss: {loss.item():.4f}')\n",
    "\n",
    "# Evaluate the model on the test set\n",
    "with torch.no_grad():\n",
    "    model.eval()\n",
    "    test_outputs = model(X_test_tensor)\n",
    "    test_loss = criterion(test_outputs, y_test_tensor)\n",
    "    print(f'Test Loss: {test_loss.item():.4f}')"
   ]
  },
  {
   "cell_type": "code",
   "execution_count": 57,
   "metadata": {},
   "outputs": [
    {
     "name": "stdout",
     "output_type": "stream",
     "text": [
      "Train Loss: 0.1430\n"
     ]
    }
   ],
   "source": [
    "#predict on train set\n",
    "with torch.no_grad():\n",
    "    model.eval()\n",
    "    train_outputs = model(X_train_tensor)\n",
    "    train_loss = criterion(train_outputs, y_train_tensor)\n",
    "    print(f'Train Loss: {train_loss.item():.4f}')\n",
    "    "
   ]
  },
  {
   "cell_type": "code",
   "execution_count": 58,
   "metadata": {},
   "outputs": [],
   "source": [
    "#plot output\n",
    "# plt.figure(figsize=(8, 6))\n",
    "# plt.plot(train_outputs[:, 0], label='Predicted Right')\n",
    "# plt.plot(y_train_tensor[:, 0], label='Actual Right')\n",
    "# plt.legend()\n",
    "# plt.show()\n",
    "\n",
    "# plt.figure(figsize=(8, 6))\n",
    "# plt.plot(train_outputs[:, 1], label='Predicted Left')\n",
    "# plt.plot(y_train_tensor[:, 1], label='Actual Left')\n",
    "# plt.legend()\n",
    "# plt.show()\n"
   ]
  },
  {
   "cell_type": "code",
   "execution_count": 59,
   "metadata": {},
   "outputs": [
    {
     "data": {
      "image/png": "[encoded data removed]",
      "text/plain": [
       "<Figure size 432x144 with 1 Axes>"
      ]
     },
     "metadata": {
      "needs_background": "light"
     },
     "output_type": "display_data"
    },
    {
     "data": {
      "image/png": "[encoded data removed]",
      "text/plain": [
       "<Figure size 432x144 with 1 Axes>"
      ]
     },
     "metadata": {
      "needs_background": "light"
     },
     "output_type": "display_data"
    }
   ],
   "source": [
    "#predict on full set\n",
    "X_full = torch.tensor(X_test.values, dtype=torch.float32)\n",
    "X_full_outputs = model(X_full)\n",
    "X_np = X_full_outputs.detach().numpy()\n",
    "\n",
    "#plot output\n",
    "plt.figure(figsize=(6, 2))\n",
    "plt.plot(X_np[:, 0], label='Predicted Right')\n",
    "plt.plot(y.right_touch, label='Right Touch')\n",
    "plt.legend()\n",
    "\n",
    "plt.figure(figsize=(6, 2))\n",
    "plt.plot(X_np[:, 1], label='Predicted Left')\n",
    "plt.plot(y.left_touch, label='Left Touch')\n",
    "plt.legend()\n",
    "plt.show()\n"
   ]
  },
  {
   "cell_type": "code",
   "execution_count": 60,
   "metadata": {},
   "outputs": [
    {
     "name": "stdout",
     "output_type": "stream",
     "text": [
      "0.9207317073170732\n"
     ]
    }
   ],
   "source": [
    "#get accuracy on test set\n",
    "y_pred = np.round(X_np)\n",
    "y_actual = y_test.values\n",
    "# print(y_pred)\n",
    "# print(y_actual)\n",
    "print(np.sum(y_pred == y_actual) / y_actual.size)"
   ]
  },
  {
   "cell_type": "code",
   "execution_count": 61,
   "metadata": {},
   "outputs": [
    {
     "name": "stdout",
     "output_type": "stream",
     "text": [
      "0.6341463414634146\n"
     ]
    }
   ],
   "source": [
    "#get baseline accuracy\n",
    "y_baseline = np.ones(y_actual.shape)\n",
    "print(np.sum(y_baseline == y_actual) / y_actual.size)"
   ]
  },
  {
   "cell_type": "code",
   "execution_count": 62,
   "metadata": {},
   "outputs": [
    {
     "name": "stdout",
     "output_type": "stream",
     "text": [
      "0.9166666666666666\n"
     ]
    }
   ],
   "source": [
    "#cut the last 10 frames\n",
    "y_pred = np.round(X_np[:-10])\n",
    "y_actual = y_test.values[:-10]\n",
    "# print(y_pred)\n",
    "# print(y_actual)\n",
    "print(np.sum(y_pred == y_actual) / y_actual.size)\n"
   ]
  },
  {
   "cell_type": "code",
   "execution_count": 63,
   "metadata": {},
   "outputs": [],
   "source": [
    "#round predictions\n",
    "X_full_outputs_round = torch.round(X_full_outputs)"
   ]
  },
  {
   "cell_type": "code",
   "execution_count": 64,
   "metadata": {},
   "outputs": [
    {
     "data": {
      "image/png": "[encoded data removed]",
      "text/plain": [
       "<Figure size 432x144 with 1 Axes>"
      ]
     },
     "metadata": {
      "needs_background": "light"
     },
     "output_type": "display_data"
    }
   ],
   "source": [
    "#calculate double support by looking at when both feet are touching (1,1)\n",
    "ds = []\n",
    "for i in range(len(X_full_outputs_round)):\n",
    "    if X_full_outputs_round[i][0] == 1 and X_full_outputs_round[i][1] == 1:\n",
    "        ds.append(1)\n",
    "    else:\n",
    "        ds.append(0)\n",
    "\n",
    "ds_true = []\n",
    "for i in range(len(y)):\n",
    "    if y.right_touch[i] == 1 and y.left_touch[i] == 1:\n",
    "        ds_true.append(1)\n",
    "    else:\n",
    "        ds_true.append(0)\n",
    "\n",
    "#plot double support\n",
    "plt.figure(figsize=(6, 2))\n",
    "plt.plot(ds, label='Predicted')\n",
    "plt.plot(ds_true, label='Actual')\n",
    "plt.legend()\n",
    "plt.title('Double Support')\n",
    "plt.show()"
   ]
  },
  {
   "cell_type": "code",
   "execution_count": 65,
   "metadata": {},
   "outputs": [
    {
     "name": "stdout",
     "output_type": "stream",
     "text": [
      "Predicted Double Support: 0.2073170731707317\n",
      "Actual Double Support: 0.2682926829268293\n"
     ]
    }
   ],
   "source": [
    "#calculate percentege of 1s in predictions\n",
    "print('Predicted Double Support:', sum(ds)/len(ds))\n",
    "print('Actual Double Support:', sum(ds_true)/len(ds_true))"
   ]
  },
  {
   "cell_type": "code",
   "execution_count": 66,
   "metadata": {},
   "outputs": [],
   "source": [
    "import joblib\n",
    "\n",
    "#load original data\n",
    "track_dict = joblib.load('data/demo_walk_19.pkl')\n",
    "\n",
    "def get_cameras(dict):\n",
    "    frames = list(dict.keys())\n",
    "    joints_2d = []\n",
    "    for frame in frames:\n",
    "        joints_2d.append(dict.get(frame).get('camera'))\n",
    "    \n",
    "    return np.array(joints_2d)"
   ]
  },
  {
   "cell_type": "code",
   "execution_count": 67,
   "metadata": {},
   "outputs": [],
   "source": [
    "camera_frames = get_cameras(track_dict).reshape(get_cameras(track_dict).shape[0], -1)\n",
    "x_coords = camera_frames"
   ]
  },
  {
   "cell_type": "code",
   "execution_count": 68,
   "metadata": {},
   "outputs": [],
   "source": [
    "left_touch_pred = X_full_outputs_round[:, 1].detach().numpy()\n",
    "right_touch_pred = X_full_outputs_round[:, 0].detach().numpy()"
   ]
  },
  {
   "cell_type": "code",
   "execution_count": 69,
   "metadata": {},
   "outputs": [],
   "source": [
    "#make a function that given a list of 1s and 0s, returns the indices where the current value is 1 and the previous value is 0\n",
    "def get_touches(touch_list):\n",
    "    touches = []\n",
    "    for i in range(len(touch_list)):\n",
    "        if touch_list[i] == 1 and touch_list[i-1] == 0:\n",
    "            touches.append(i)\n",
    "    return touches"
   ]
  },
  {
   "cell_type": "code",
   "execution_count": 70,
   "metadata": {},
   "outputs": [],
   "source": [
    "touches_left = get_touches(left_touch_pred)\n",
    "touches_right = get_touches(right_touch_pred)"
   ]
  },
  {
   "cell_type": "code",
   "execution_count": 71,
   "metadata": {},
   "outputs": [
    {
     "data": {
      "image/png": "[encoded data removed]",
      "text/plain": [
       "<Figure size 504x216 with 1 Axes>"
      ]
     },
     "metadata": {
      "needs_background": "light"
     },
     "output_type": "display_data"
    },
    {
     "data": {
      "image/png": "[encoded data removed]",
      "text/plain": [
       "<Figure size 504x216 with 1 Axes>"
      ]
     },
     "metadata": {
      "needs_background": "light"
     },
     "output_type": "display_data"
    }
   ],
   "source": [
    "#plot right foot\n",
    "plt.figure(figsize=(7, 3))\n",
    "plt.plot(x_coords[:, 0], label='x')\n",
    "plt.plot(left_touch_pred, label='Predicted')\n",
    "plt.plot(touches_left, [1]*len(touches_left), 'o', label='Touch')\n",
    "#plot x ticks every 5\n",
    "plt.xticks(np.arange(0, len(x_coords[:, 0]), 5))\n",
    "plt.legend()\n",
    "plt.title('Left Foot')\n",
    "plt.show()\n",
    "\n",
    "#plot right foot\n",
    "plt.figure(figsize=(7, 3))\n",
    "plt.plot(x_coords[:, 0], label='x')\n",
    "plt.plot(right_touch_pred, label='Predicted')\n",
    "plt.plot(touches_right, [1]*len(touches_right), 'o', label='Touch')\n",
    "#plot x ticks every 5\n",
    "plt.xticks(np.arange(0, len(x_coords[:, 0]), 5))\n",
    "plt.legend()\n",
    "plt.title('Right Foot')\n",
    "plt.show()"
   ]
  },
  {
   "cell_type": "code",
   "execution_count": 72,
   "metadata": {},
   "outputs": [
    {
     "name": "stdout",
     "output_type": "stream",
     "text": [
      "Left Touches: [7, 39, 70]\n",
      "Right Touches: [0, 21, 51]\n"
     ]
    }
   ],
   "source": [
    "print('Left Touches:', touches_left)\n",
    "print('Right Touches:', touches_right)\n"
   ]
  },
  {
   "cell_type": "code",
   "execution_count": 73,
   "metadata": {},
   "outputs": [],
   "source": [
    "# touches_left.remove(37)"
   ]
  },
  {
   "cell_type": "code",
   "execution_count": 74,
   "metadata": {},
   "outputs": [
    {
     "name": "stdout",
     "output_type": "stream",
     "text": [
      "Stride Length Right: 1.1067038\n",
      "Stride Length Left: 1.3965033\n"
     ]
    }
   ],
   "source": [
    "#get the stride length by subtracting the x coordinates with the next touch of the same foot\n",
    "stride_length_right = x_coords[touches_right[1:], 0] - x_coords[touches_right[:-1], 0]\n",
    "stride_length_left = x_coords[touches_left[1:], 0] - x_coords[touches_left[:-1], 0]\n",
    "\n",
    "#remove values below 0.3\n",
    "stride_length_right = stride_length_right[stride_length_right > 0.3]\n",
    "stride_length_left = stride_length_left[stride_length_left > 0.3]\n",
    "\n",
    "#remove the first stride length because it is not a full stride\n",
    "# stride_length_right = stride_length_right[1:]\n",
    "# stride_length_left = stride_length_left[1:] \n",
    "\n",
    "avg_stride_length_right = np.abs(np.mean(stride_length_right))\n",
    "avg_stride_length_left = np.abs(np.mean(stride_length_left))\n",
    "\n",
    "print('Stride Length Right:', avg_stride_length_right)\n",
    "print('Stride Length Left:', avg_stride_length_left)\n"
   ]
  },
  {
   "cell_type": "code",
   "execution_count": 75,
   "metadata": {},
   "outputs": [
    {
     "data": {
      "text/plain": [
       "23.15426148171882"
      ]
     },
     "execution_count": 75,
     "metadata": {},
     "output_type": "execute_result"
    }
   ],
   "source": [
    "#print the percent difference between the left and right stride lengths\n",
    "diff = np.abs(avg_stride_length_right - avg_stride_length_left)/((avg_stride_length_right + avg_stride_length_left)/2)\n",
    "diff*100"
   ]
  },
  {
   "cell_type": "code",
   "execution_count": 76,
   "metadata": {},
   "outputs": [
    {
     "data": {
      "text/plain": [
       "1.298344561928197"
      ]
     },
     "execution_count": 76,
     "metadata": {},
     "output_type": "execute_result"
    }
   ],
   "source": [
    "#get the walking speed by subtracting the first and last x coordinates and dividing by the number of frames\n",
    "walking_speed = abs(x_coords[-1, 0] - x_coords[0, 0]) / (len(x_coords)/30)\n",
    "walking_speed"
   ]
  }
 ],
 "metadata": {
  "kernelspec": {
   "display_name": "Python 3",
   "language": "python",
   "name": "python3"
  },
  "language_info": {
   "codemirror_mode": {
    "name": "ipython",
    "version": 3
   },
   "file_extension": ".py",
   "mimetype": "text/x-python",
   "name": "python",
   "nbconvert_exporter": "python",
   "pygments_lexer": "ipython3",
   "version": "3.10.10"
  }
 },
 "nbformat": 4,
 "nbformat_minor": 2
}
