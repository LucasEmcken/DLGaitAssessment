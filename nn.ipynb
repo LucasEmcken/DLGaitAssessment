{
 "cells": [
  {
   "cell_type": "code",
   "execution_count": 1,
   "metadata": {},
   "outputs": [],
   "source": [
    "import pandas as pd\n",
    "import numpy as np\n",
    "import matplotlib.pyplot as plt\n",
    "from sklearn.model_selection import train_test_split\n",
    "\n",
    "import torch\n",
    "import torch.nn as nn\n",
    "import torch.optim as optim\n",
    "from torch.utils.data import DataLoader, TensorDataset"
   ]
  },
  {
   "cell_type": "code",
   "execution_count": 2,
   "metadata": {},
   "outputs": [],
   "source": [
    "#load data\n",
    "data = pd.read_csv('train/demo_walk_9_train.csv', index_col=0)\n",
    "\n",
    "X = data.drop(['right_touch', 'left_touch'], axis=1)\n",
    "y = data[['right_touch', 'left_touch']]\n",
    "\n",
    "# Use train_test_split with stratify parameter\n",
    "X_train, X_test, y_train, y_test = train_test_split(X, y, test_size=0.2, stratify=y, random_state=42)\n",
    "\n",
    "# Convert pandas DataFrames to PyTorch tensors\n",
    "X_train_tensor = torch.tensor(X_train.values, dtype=torch.float32)\n",
    "y_train_tensor = torch.tensor(y_train.values, dtype=torch.float32)\n",
    "X_test_tensor = torch.tensor(X_test.values, dtype=torch.float32)\n",
    "y_test_tensor = torch.tensor(y_test.values, dtype=torch.float32)"
   ]
  },
  {
   "cell_type": "code",
   "execution_count": 3,
   "metadata": {},
   "outputs": [],
   "source": [
    "class NN(nn.Module):\n",
    "    def __init__(self, input_size, hidden_size, output_size):\n",
    "        super(NN, self).__init__()\n",
    "        self.fc1 = nn.Linear(input_size, hidden_size)\n",
    "        self.relu = nn.ReLU()\n",
    "        self.fc2 = nn.Linear(hidden_size, output_size)\n",
    "        self.sigmoid = nn.Sigmoid()\n",
    "\n",
    "    def forward(self, x):\n",
    "        x = self.fc1(x)\n",
    "        x = self.relu(x)\n",
    "        x = self.fc2(x)\n",
    "        x = self.sigmoid(x)\n",
    "        return x\n",
    "\n",
    "input_size = X_train.shape[1]\n",
    "hidden_size = 64  # You can adjust this based on your problem\n",
    "output_size = 2  # Assuming binary classification for each foot\n",
    "\n",
    "# Instantiate the model\n",
    "model = NN(input_size, hidden_size, output_size)\n",
    "\n",
    "# Define the loss function and optimizer\n",
    "criterion = nn.BCELoss()\n",
    "optimizer = optim.Adam(model.parameters(), lr=0.001)\n"
   ]
  },
  {
   "cell_type": "code",
   "execution_count": 4,
   "metadata": {},
   "outputs": [],
   "source": [
    "# Convert data to DataLoader for batching\n",
    "train_dataset = TensorDataset(X_train_tensor, y_train_tensor)\n",
    "train_loader = DataLoader(train_dataset, batch_size=32, shuffle=True)"
   ]
  },
  {
   "cell_type": "code",
   "execution_count": 5,
   "metadata": {},
   "outputs": [
    {
     "name": "stdout",
     "output_type": "stream",
     "text": [
      "Epoch [10/250], Loss: 0.6423\n",
      "Epoch [20/250], Loss: 0.5831\n",
      "Epoch [30/250], Loss: 0.5551\n",
      "Epoch [40/250], Loss: 0.5048\n",
      "Epoch [50/250], Loss: 0.4152\n",
      "Epoch [60/250], Loss: 0.3920\n",
      "Epoch [70/250], Loss: 0.3582\n",
      "Epoch [80/250], Loss: 0.3077\n",
      "Epoch [90/250], Loss: 0.2701\n",
      "Epoch [100/250], Loss: 0.2377\n",
      "Epoch [110/250], Loss: 0.2274\n",
      "Epoch [120/250], Loss: 0.1883\n",
      "Epoch [130/250], Loss: 0.2370\n",
      "Epoch [140/250], Loss: 0.2353\n",
      "Epoch [150/250], Loss: 0.1856\n",
      "Epoch [160/250], Loss: 0.2049\n",
      "Epoch [170/250], Loss: 0.1790\n",
      "Epoch [180/250], Loss: 0.1947\n",
      "Epoch [190/250], Loss: 0.1845\n",
      "Epoch [200/250], Loss: 0.1917\n",
      "Epoch [210/250], Loss: 0.1435\n",
      "Epoch [220/250], Loss: 0.1538\n",
      "Epoch [230/250], Loss: 0.1754\n",
      "Epoch [240/250], Loss: 0.1353\n",
      "Epoch [250/250], Loss: 0.1718\n",
      "Test Loss: 0.1730\n"
     ]
    }
   ],
   "source": [
    "num_epochs = 250\n",
    "\n",
    "for epoch in range(num_epochs):\n",
    "    for inputs, labels in train_loader:\n",
    "        # Forward pass\n",
    "        outputs = model(inputs)\n",
    "        loss = criterion(outputs, labels)\n",
    "\n",
    "        # Backward pass and optimization\n",
    "        optimizer.zero_grad()\n",
    "        loss.backward()\n",
    "        optimizer.step()\n",
    "\n",
    "    # Print the loss for every epoch\n",
    "    if (epoch+1) % 10 == 0:\n",
    "        print(f'Epoch [{epoch+1}/{num_epochs}], Loss: {loss.item():.4f}')\n",
    "\n",
    "# Evaluate the model on the test set\n",
    "with torch.no_grad():\n",
    "    model.eval()\n",
    "    test_outputs = model(X_test_tensor)\n",
    "    test_loss = criterion(test_outputs, y_test_tensor)\n",
    "    print(f'Test Loss: {test_loss.item():.4f}')"
   ]
  },
  {
   "cell_type": "code",
   "execution_count": 6,
   "metadata": {},
   "outputs": [
    {
     "name": "stdout",
     "output_type": "stream",
     "text": [
      "Train Loss: 0.1349\n"
     ]
    }
   ],
   "source": [
    "#predict on train set\n",
    "with torch.no_grad():\n",
    "    model.eval()\n",
    "    train_outputs = model(X_train_tensor)\n",
    "    train_loss = criterion(train_outputs, y_train_tensor)\n",
    "    print(f'Train Loss: {train_loss.item():.4f}')\n",
    "    "
   ]
  },
  {
   "cell_type": "code",
   "execution_count": 7,
   "metadata": {},
   "outputs": [],
   "source": [
    "#plot output\n",
    "# plt.figure(figsize=(8, 6))\n",
    "# plt.plot(train_outputs[:, 0], label='Predicted Right')\n",
    "# plt.plot(y_train_tensor[:, 0], label='Actual Right')\n",
    "# plt.legend()\n",
    "# plt.show()\n",
    "\n",
    "# plt.figure(figsize=(8, 6))\n",
    "# plt.plot(train_outputs[:, 1], label='Predicted Left')\n",
    "# plt.plot(y_train_tensor[:, 1], label='Actual Left')\n",
    "# plt.legend()\n",
    "# plt.show()\n"
   ]
  },
  {
   "cell_type": "code",
   "execution_count": 8,
   "metadata": {},
   "outputs": [
    {
     "data": {
      "image/png": "[encoded data removed]",
      "text/plain": [
       "<Figure size 432x144 with 1 Axes>"
      ]
     },
     "metadata": {
      "needs_background": "light"
     },
     "output_type": "display_data"
    },
    {
     "data": {
      "image/png": "[encoded data removed]",
      "text/plain": [
       "<Figure size 432x144 with 1 Axes>"
      ]
     },
     "metadata": {
      "needs_background": "light"
     },
     "output_type": "display_data"
    }
   ],
   "source": [
    "#predict on full set\n",
    "X_full = torch.tensor(X.values, dtype=torch.float32)\n",
    "X_full_outputs = model(X_full)\n",
    "X_np = X_full_outputs.detach().numpy()\n",
    "\n",
    "#plot output\n",
    "plt.figure(figsize=(6, 2))\n",
    "plt.plot(X_np[:, 0], label='Predicted Right')\n",
    "plt.plot(y.right_touch, label='Actual Right')\n",
    "plt.legend()\n",
    "plt.figure(figsize=(6, 2))\n",
    "plt.plot(X_np[:, 1], label='Predicted Left')\n",
    "plt.plot(y.left_touch, label='Actual Left')\n",
    "plt.legend()\n",
    "plt.show()\n"
   ]
  },
  {
   "cell_type": "code",
   "execution_count": 9,
   "metadata": {},
   "outputs": [],
   "source": [
    "#round predictions\n",
    "X_full_outputs_round = torch.round(X_full_outputs)"
   ]
  },
  {
   "cell_type": "code",
   "execution_count": 10,
   "metadata": {},
   "outputs": [
    {
     "data": {
      "image/png": "[encoded data removed]",
      "text/plain": [
       "<Figure size 432x144 with 1 Axes>"
      ]
     },
     "metadata": {
      "needs_background": "light"
     },
     "output_type": "display_data"
    }
   ],
   "source": [
    "#calculate double support by looking at when both feet are touching (1,1)\n",
    "ds = []\n",
    "for i in range(len(X_full_outputs_round)):\n",
    "    if X_full_outputs_round[i][0] == 1 and X_full_outputs_round[i][1] == 1:\n",
    "        ds.append(1)\n",
    "    else:\n",
    "        ds.append(0)\n",
    "\n",
    "ds_true = []\n",
    "for i in range(len(y)):\n",
    "    if y.right_touch[i] == 1 and y.left_touch[i] == 1:\n",
    "        ds_true.append(1)\n",
    "    else:\n",
    "        ds_true.append(0)\n",
    "\n",
    "#plot double support\n",
    "plt.figure(figsize=(6, 2))\n",
    "plt.plot(ds, label='Predicted')\n",
    "plt.plot(ds_true, label='Actual')\n",
    "plt.legend()\n",
    "plt.title('Double Support')\n",
    "plt.show()\n"
   ]
  },
  {
   "cell_type": "code",
   "execution_count": 11,
   "metadata": {},
   "outputs": [
    {
     "name": "stdout",
     "output_type": "stream",
     "text": [
      "Predicted Double Support: 0.2608695652173913\n",
      "Actual Double Support: 0.2318840579710145\n"
     ]
    }
   ],
   "source": [
    "#calculate percentege of 1s in predictions\n",
    "print('Predicted Double Support:', sum(ds)/len(ds))\n",
    "print('Actual Double Support:', sum(ds_true)/len(ds_true))"
   ]
  },
  {
   "cell_type": "code",
   "execution_count": 12,
   "metadata": {},
   "outputs": [],
   "source": [
    "import joblib\n",
    "\n",
    "#load original data\n",
    "track_dict = joblib.load('data/demo_walk_9.pkl')\n",
    "\n",
    "def get_cameras(dict):\n",
    "    frames = list(dict.keys())\n",
    "    joints_2d = []\n",
    "    for frame in frames:\n",
    "        joints_2d.append(dict.get(frame).get('camera'))\n",
    "    \n",
    "    return np.array(joints_2d)"
   ]
  },
  {
   "cell_type": "code",
   "execution_count": 13,
   "metadata": {},
   "outputs": [],
   "source": [
    "camera_frames = get_cameras(track_dict).reshape(get_cameras(track_dict).shape[0], -1)\n",
    "x_coords = camera_frames[:, 0::3]"
   ]
  },
  {
   "cell_type": "code",
   "execution_count": 14,
   "metadata": {},
   "outputs": [],
   "source": [
    "left_touch_pred = X_full_outputs_round[:, 1].detach().numpy()"
   ]
  },
  {
   "cell_type": "code",
   "execution_count": 15,
   "metadata": {},
   "outputs": [
    {
     "data": {
      "image/png": "[encoded data removed]",
      "text/plain": [
       "<Figure size 432x144 with 1 Axes>"
      ]
     },
     "metadata": {
      "needs_background": "light"
     },
     "output_type": "display_data"
    }
   ],
   "source": [
    "#plot right foot\n",
    "plt.figure(figsize=(6, 2))\n",
    "plt.plot(x_coords[:, 0], label='x')\n",
    "plt.plot(left_touch_pred, label='Predicted')\n",
    "plt.legend()\n",
    "plt.title('Left Foot')\n",
    "plt.show()"
   ]
  },
  {
   "cell_type": "code",
   "execution_count": 16,
   "metadata": {},
   "outputs": [
    {
     "name": "stdout",
     "output_type": "stream",
     "text": [
      "1.0\n",
      "1.0\n"
     ]
    }
   ],
   "source": [
    "print(left_touch_pred[7])\n",
    "print(left_touch_pred[36])"
   ]
  },
  {
   "cell_type": "code",
   "execution_count": 17,
   "metadata": {},
   "outputs": [
    {
     "data": {
      "text/plain": [
       "array([1.2457266], dtype=float32)"
      ]
     },
     "execution_count": 17,
     "metadata": {},
     "output_type": "execute_result"
    }
   ],
   "source": [
    "#get distance between feet\n",
    "x_coords[7] - x_coords[36]"
   ]
  },
  {
   "cell_type": "code",
   "execution_count": 18,
   "metadata": {},
   "outputs": [
    {
     "data": {
      "text/plain": [
       "array([2.9737515], dtype=float32)"
      ]
     },
     "execution_count": 18,
     "metadata": {},
     "output_type": "execute_result"
    }
   ],
   "source": [
    "x_coords[0] - x_coords[-1]"
   ]
  },
  {
   "cell_type": "code",
   "execution_count": 20,
   "metadata": {},
   "outputs": [
    {
     "data": {
      "text/plain": [
       "1.2608695652173914"
      ]
     },
     "execution_count": 20,
     "metadata": {},
     "output_type": "execute_result"
    }
   ],
   "source": [
    "2.9/(69/30)"
   ]
  }
 ],
 "metadata": {
  "kernelspec": {
   "display_name": "Python 3",
   "language": "python",
   "name": "python3"
  },
  "language_info": {
   "codemirror_mode": {
    "name": "ipython",
    "version": 3
   },
   "file_extension": ".py",
   "mimetype": "text/x-python",
   "name": "python",
   "nbconvert_exporter": "python",
   "pygments_lexer": "ipython3",
   "version": "3.8.6"
  }
 },
 "nbformat": 4,
 "nbformat_minor": 2
}
